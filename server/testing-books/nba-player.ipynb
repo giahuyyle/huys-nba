{
 "cells": [
  {
   "cell_type": "code",
   "execution_count": 2,
   "metadata": {},
   "outputs": [],
   "source": [
    "import pandas as pd"
   ]
  },
  {
   "cell_type": "code",
   "execution_count": 3,
   "metadata": {},
   "outputs": [
    {
     "name": "stdout",
     "output_type": "stream",
     "text": [
      "Environment variables loaded from /Users/huylegia/Coding-Projects/Python/nba-project/server/../.env\n"
     ]
    }
   ],
   "source": [
    "import sys\n",
    "import os\n",
    "\n",
    "# Add the parent directory to the Python path\n",
    "sys.path.append(os.path.dirname(os.getcwd()))\n",
    "\n",
    "from database import session, PerGame\n",
    "from dotenv import load_dotenv\n",
    "from sqlalchemy import create_engine, Column, Integer, String, Float\n",
    "from sqlalchemy.orm import sessionmaker, declarative_base"
   ]
  },
  {
   "cell_type": "code",
   "execution_count": 4,
   "metadata": {},
   "outputs": [],
   "source": [
    "# Load environment variables\n",
    "db_type = os.getenv(\"DB_TYPE\")\n",
    "db_host = os.getenv(\"DB_HOST\")\n",
    "db_port = os.getenv(\"DB_PORT\")\n",
    "database = os.getenv(\"DB_NAME_PERGAME_24_25\")               # Database name for per game stats\n",
    "db_user = os.getenv(\"DB_USER\")\n",
    "db_password = os.getenv(\"DB_PASS\")\n",
    "\n",
    "\n",
    "# Contrsuct the database URL\n",
    "def construct_db_url(db_type, db_host, db_port, database, db_user, db_password):\n",
    "    if db_type == \"mysql\":\n",
    "        return f\"mysql://{db_user}:{db_password}@{db_host}:{db_port}/{database}\"\n",
    "    elif db_type == \"mssql\":\n",
    "        return f\"mssql+pyodbc://{db_user}:{db_password}@{db_host}:{db_port}/{database}\"\n",
    "    elif db_type == \"pgsql\":\n",
    "        return f\"postgresql://{db_user}:{db_password}@{db_host}:{db_port}/{database}\"\n",
    "    else:\n",
    "        raise ValueError(\"Unsupported database type\")\n",
    "    \n",
    "\n",
    "# Create engine\n",
    "db_url = construct_db_url(db_type, db_host, db_port, database, db_user, db_password)\n",
    "Base = declarative_base()\n",
    "engine = create_engine(db_url, echo=True)\n",
    "\n",
    "# Create session\n",
    "SessionLocal = sessionmaker(autocommit=False, autoflush=False, bind=engine)\n",
    "session = SessionLocal()"
   ]
  },
  {
   "cell_type": "code",
   "execution_count": 9,
   "metadata": {},
   "outputs": [
    {
     "name": "stdout",
     "output_type": "stream",
     "text": [
      "2025-05-04 08:01:52,993 INFO sqlalchemy.engine.Engine SELECT per_game_stats.id AS per_game_stats_id, per_game_stats.rk AS per_game_stats_rk, per_game_stats.player AS per_game_stats_player, per_game_stats.age AS per_game_stats_age, per_game_stats.team AS per_game_stats_team, per_game_stats.pos AS per_game_stats_pos, per_game_stats.g AS per_game_stats_g, per_game_stats.gs AS per_game_stats_gs, per_game_stats.mp AS per_game_stats_mp, per_game_stats.fg AS per_game_stats_fg, per_game_stats.fga AS per_game_stats_fga, per_game_stats.fg_pct AS per_game_stats_fg_pct, per_game_stats.three_p AS per_game_stats_three_p, per_game_stats.three_pa AS per_game_stats_three_pa, per_game_stats.three_p_pct AS per_game_stats_three_p_pct, per_game_stats.two_p AS per_game_stats_two_p, per_game_stats.two_pa AS per_game_stats_two_pa, per_game_stats.two_p_pct AS per_game_stats_two_p_pct, per_game_stats.efg_pct AS per_game_stats_efg_pct, per_game_stats.ft AS per_game_stats_ft, per_game_stats.fta AS per_game_stats_fta, per_game_stats.ft_pct AS per_game_stats_ft_pct, per_game_stats.orb AS per_game_stats_orb, per_game_stats.drb AS per_game_stats_drb, per_game_stats.trb AS per_game_stats_trb, per_game_stats.ast AS per_game_stats_ast, per_game_stats.stl AS per_game_stats_stl, per_game_stats.blk AS per_game_stats_blk, per_game_stats.tov AS per_game_stats_tov, per_game_stats.pf AS per_game_stats_pf, per_game_stats.pts AS per_game_stats_pts, per_game_stats.awards AS per_game_stats_awards, per_game_stats.player_additional AS per_game_stats_player_additional, per_game_stats.efficiency AS per_game_stats_efficiency \n",
      "FROM per_game_stats \n",
      "WHERE per_game_stats.player = %(player_1)s \n",
      " LIMIT %(param_1)s\n",
      "2025-05-04 08:01:52,994 INFO sqlalchemy.engine.Engine [cached since 55.38s ago] {'player_1': 'Mikal Bridges', 'param_1': 1}\n",
      "82\n"
     ]
    }
   ],
   "source": [
    "lbj = session.query(PerGame).filter(PerGame.player==\"Mikal Bridges\").first()\n",
    "print(lbj.gs)"
   ]
  }
 ],
 "metadata": {
  "kernelspec": {
   "display_name": "Python 3",
   "language": "python",
   "name": "python3"
  },
  "language_info": {
   "codemirror_mode": {
    "name": "ipython",
    "version": 3
   },
   "file_extension": ".py",
   "mimetype": "text/x-python",
   "name": "python",
   "nbconvert_exporter": "python",
   "pygments_lexer": "ipython3",
   "version": "3.12.8"
  }
 },
 "nbformat": 4,
 "nbformat_minor": 2
}
